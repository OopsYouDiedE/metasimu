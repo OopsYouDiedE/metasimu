{
 "cells": [
  {
   "cell_type": "code",
   "execution_count": null,
   "metadata": {},
   "outputs": [],
   "source": [
    "# 记忆设定：要求该Agent能够记住自己做过的任务，并且记住其他人谈论的关于某人的状态。\n",
    "# 该Agent 需要能够在进行同一件事时，维持多轮对话，并在更换话题时自动重新开始对话，并处理上轮对话内容。为了方便，所有内容全部写死；\n",
    "# 该Agent 被设计用于discord 对话。\n",
    "# 因此，Agent 需要先对用户讨论内容进行过滤，然后判断讨论主题是否转变；接着，为了拟人化，该Agent 会设置几个参数来模拟人的需求。\n",
    "# 该Agent 被设计为随时间推移，缓慢形成自身性格，树立自身的喜好和价值观。\n",
    "# 该Agent具有以下模块：主动发起议题，跟踪已有议题，学习群友性格，以及过去谈论话题，"
   ]
  },
  {
   "cell_type": "code",
   "execution_count": null,
   "outputs": [],
   "source": [
    "# 先编写一个Discord机器人，能够了解谈话意图，并进行合适的动作。\n"
   ],
   "metadata": {
    "collapsed": false
   }
  },
  {
   "cell_type": "markdown",
   "source": [
    "# 1.设置大语言模型背景"
   ],
   "metadata": {
    "collapsed": false
   }
  },
  {
   "cell_type": "code",
   "execution_count": null,
   "outputs": [],
   "source": [
    "kwargs={\n",
    "    \"api_keys\":\"sk-cRk2eMr7OMij3FKyD4C41a291c9943018728C3D479Dd1e99\",\n",
    "    \"base_url\":\"https://chatapi.onechats.top/v1\"\n",
    "}\n",
    "from openai import AsyncOpenAI\n",
    "client = AsyncOpenAI(**kwargs)\n",
    "response = client.chat.completions.create(messages=x, **self.kwargs)\n",
    "return response.choices[0].message.content"
   ],
   "metadata": {
    "collapsed": false
   }
  },
  {
   "cell_type": "code",
   "execution_count": null,
   "outputs": [],
   "source": [
    "import base64\n",
    "import io\n",
    "import json\n",
    "import os\n",
    "import disnake\n",
    "from disnake.ext import commands\n",
    "from dotenv import load_dotenv\n",
    "\n",
    "import claude\n",
    "import jailbreak\n",
    "\n",
    "load_dotenv()\n"
   ],
   "metadata": {
    "collapsed": false
   }
  },
  {
   "cell_type": "code",
   "execution_count": null,
   "outputs": [],
   "source": [
    "intents = disnake.Intents.default()\n",
    "intents.message_content = True\n",
    "bot = commands.Bot(command_prefix=commands.when_mentioned_or(\".\", \"!\"), intents=intents)\n"
   ],
   "metadata": {
    "collapsed": false
   }
  }
 ],
 "metadata": {
  "kernelspec": {
   "display_name": "base",
   "language": "python",
   "name": "python3"
  },
  "language_info": {
   "name": "python",
   "version": "3.11.4"
  }
 },
 "nbformat": 4,
 "nbformat_minor": 2
}
